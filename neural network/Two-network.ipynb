{
 "cells": [
  {
   "cell_type": "code",
   "execution_count": 1,
   "id": "4c78a050",
   "metadata": {
    "ExecuteTime": {
     "end_time": "2023-01-11T01:18:43.741567Z",
     "start_time": "2023-01-11T01:18:41.192613Z"
    }
   },
   "outputs": [],
   "source": [
    "import os\n",
    "import warnings\n",
    "\n",
    "import torch\n",
    "import pandas as pd\n",
    "from sklearn.model_selection import train_test_split\n",
    "import matplotlib.pyplot as plt\n",
    "import torch.utils.data as DT\n",
    "import numpy as np\n",
    "from torch.utils.data import random_split\n",
    "import torch.nn as nn\n",
    "import matplotlib.ticker as ticker\n",
    "import matplotlib.animation as animation\n",
    "from sklearn.model_selection import train_test_split\n",
    "from sklearn.model_selection import train_test_split\n",
    "from sklearn.metrics import accuracy_score"
   ]
  },
  {
   "cell_type": "code",
   "execution_count": 2,
   "id": "7260dd03",
   "metadata": {
    "ExecuteTime": {
     "end_time": "2023-01-11T01:18:43.764875Z",
     "start_time": "2023-01-11T01:18:43.759855Z"
    }
   },
   "outputs": [],
   "source": [
    "warnings.filterwarnings('ignore')"
   ]
  },
  {
   "cell_type": "markdown",
   "id": "197a60be",
   "metadata": {},
   "source": [
    "## 数据导入"
   ]
  },
  {
   "cell_type": "code",
   "execution_count": 341,
   "id": "66e2dc31",
   "metadata": {
    "ExecuteTime": {
     "end_time": "2022-12-28T12:32:25.660420Z",
     "start_time": "2022-12-28T12:32:25.647626Z"
    }
   },
   "outputs": [],
   "source": [
    "# 输入特征（构造数据）\n",
    "X = torch.tensor([[1, 1, 1, 1, -1],\n",
    "    [-1, -1, -1, 1, -1],\n",
    "    [-1, 1, -1, -1, -1],\n",
    "    [1, -1, -1, 1, -1],\n",
    "    [-1, 1, 1, 1, -1],\n",
    "    [1, -1, 1, -1, -1],\n",
    "    [1, 1, -1, -1, -1],\n",
    "    [-1, -1, 1, -1, -1],\n",
    "    [-1, 1, -1, 1, -1],\n",
    "    [-1, -1, 1, 1, -1],\n",
    "    [1, -1, -1, -1, -1],\n",
    "    [-1, 1, 1, -1, -1],\n",
    "    [1, 1, -1, 1, -1], \n",
    "    [1, -1, 1, 1, -1],\n",
    "    [1, -1, 1, 1, -1],\n",
    "    [-1, -1, -1, -1, -1],\n",
    "    [1, 1, 1, -1, -1]], dtype=torch.float32)\n",
    "\n",
    "# 输入标签\n",
    "# y = torch.tensor(\n",
    "#     [0.1,  0.9,  0.9,  0.1,  0.9,  0.1,  0.1,  0.9, 0.1, 0.1, 0.9, 0.1, 0.9, 0.9, 0.9, 0.1, 0.9],\n",
    "#     )\n",
    "y = torch.tensor(\n",
    "    [0,  1,  1,  0,  1,  0,  0,  1, 0, 0, 1, 0, 1, 1, 1, 0, 1],dtype=torch.float32\n",
    "    )\n"
   ]
  },
  {
   "cell_type": "code",
   "execution_count": 342,
   "id": "2d65adfa",
   "metadata": {
    "ExecuteTime": {
     "end_time": "2022-12-28T12:32:27.425782Z",
     "start_time": "2022-12-28T12:32:27.400261Z"
    },
    "scrolled": false
   },
   "outputs": [
    {
     "data": {
      "text/plain": [
       "(array([[5.1, 3.5, 1.4, 0.2],\n",
       "        [4.9, 3. , 1.4, 0.2],\n",
       "        [4.7, 3.2, 1.3, 0.2],\n",
       "        [4.6, 3.1, 1.5, 0.2],\n",
       "        [5. , 3.6, 1.4, 0.2],\n",
       "        [5.4, 3.9, 1.7, 0.4],\n",
       "        [4.6, 3.4, 1.4, 0.3],\n",
       "        [5. , 3.4, 1.5, 0.2],\n",
       "        [4.4, 2.9, 1.4, 0.2],\n",
       "        [4.9, 3.1, 1.5, 0.1],\n",
       "        [5.4, 3.7, 1.5, 0.2],\n",
       "        [4.8, 3.4, 1.6, 0.2],\n",
       "        [4.8, 3. , 1.4, 0.1],\n",
       "        [4.3, 3. , 1.1, 0.1],\n",
       "        [5.8, 4. , 1.2, 0.2],\n",
       "        [5.7, 4.4, 1.5, 0.4],\n",
       "        [5.4, 3.9, 1.3, 0.4],\n",
       "        [5.1, 3.5, 1.4, 0.3],\n",
       "        [5.7, 3.8, 1.7, 0.3],\n",
       "        [5.1, 3.8, 1.5, 0.3],\n",
       "        [5.4, 3.4, 1.7, 0.2],\n",
       "        [5.1, 3.7, 1.5, 0.4],\n",
       "        [4.6, 3.6, 1. , 0.2],\n",
       "        [5.1, 3.3, 1.7, 0.5],\n",
       "        [4.8, 3.4, 1.9, 0.2],\n",
       "        [5. , 3. , 1.6, 0.2],\n",
       "        [5. , 3.4, 1.6, 0.4],\n",
       "        [5.2, 3.5, 1.5, 0.2],\n",
       "        [5.2, 3.4, 1.4, 0.2],\n",
       "        [4.7, 3.2, 1.6, 0.2],\n",
       "        [4.8, 3.1, 1.6, 0.2],\n",
       "        [5.4, 3.4, 1.5, 0.4],\n",
       "        [5.2, 4.1, 1.5, 0.1],\n",
       "        [5.5, 4.2, 1.4, 0.2],\n",
       "        [4.9, 3.1, 1.5, 0.1],\n",
       "        [5. , 3.2, 1.2, 0.2],\n",
       "        [5.5, 3.5, 1.3, 0.2],\n",
       "        [4.9, 3.1, 1.5, 0.1],\n",
       "        [4.4, 3. , 1.3, 0.2],\n",
       "        [5.1, 3.4, 1.5, 0.2],\n",
       "        [5. , 3.5, 1.3, 0.3],\n",
       "        [4.5, 2.3, 1.3, 0.3],\n",
       "        [4.4, 3.2, 1.3, 0.2],\n",
       "        [5. , 3.5, 1.6, 0.6],\n",
       "        [5.1, 3.8, 1.9, 0.4],\n",
       "        [4.8, 3. , 1.4, 0.3],\n",
       "        [5.1, 3.8, 1.6, 0.2],\n",
       "        [4.6, 3.2, 1.4, 0.2],\n",
       "        [5.3, 3.7, 1.5, 0.2],\n",
       "        [5. , 3.3, 1.4, 0.2],\n",
       "        [7. , 3.2, 4.7, 1.4],\n",
       "        [6.4, 3.2, 4.5, 1.5],\n",
       "        [6.9, 3.1, 4.9, 1.5],\n",
       "        [5.5, 2.3, 4. , 1.3],\n",
       "        [6.5, 2.8, 4.6, 1.5],\n",
       "        [5.7, 2.8, 4.5, 1.3],\n",
       "        [6.3, 3.3, 4.7, 1.6],\n",
       "        [4.9, 2.4, 3.3, 1. ],\n",
       "        [6.6, 2.9, 4.6, 1.3],\n",
       "        [5.2, 2.7, 3.9, 1.4],\n",
       "        [5. , 2. , 3.5, 1. ],\n",
       "        [5.9, 3. , 4.2, 1.5],\n",
       "        [6. , 2.2, 4. , 1. ],\n",
       "        [6.1, 2.9, 4.7, 1.4],\n",
       "        [5.6, 2.9, 3.6, 1.3],\n",
       "        [6.7, 3.1, 4.4, 1.4],\n",
       "        [5.6, 3. , 4.5, 1.5],\n",
       "        [5.8, 2.7, 4.1, 1. ],\n",
       "        [6.2, 2.2, 4.5, 1.5],\n",
       "        [5.6, 2.5, 3.9, 1.1],\n",
       "        [5.9, 3.2, 4.8, 1.8],\n",
       "        [6.1, 2.8, 4. , 1.3],\n",
       "        [6.3, 2.5, 4.9, 1.5],\n",
       "        [6.1, 2.8, 4.7, 1.2],\n",
       "        [6.4, 2.9, 4.3, 1.3],\n",
       "        [6.6, 3. , 4.4, 1.4],\n",
       "        [6.8, 2.8, 4.8, 1.4],\n",
       "        [6.7, 3. , 5. , 1.7],\n",
       "        [6. , 2.9, 4.5, 1.5],\n",
       "        [5.7, 2.6, 3.5, 1. ],\n",
       "        [5.5, 2.4, 3.8, 1.1],\n",
       "        [5.5, 2.4, 3.7, 1. ],\n",
       "        [5.8, 2.7, 3.9, 1.2],\n",
       "        [6. , 2.7, 5.1, 1.6],\n",
       "        [5.4, 3. , 4.5, 1.5],\n",
       "        [6. , 3.4, 4.5, 1.6],\n",
       "        [6.7, 3.1, 4.7, 1.5],\n",
       "        [6.3, 2.3, 4.4, 1.3],\n",
       "        [5.6, 3. , 4.1, 1.3],\n",
       "        [5.5, 2.5, 4. , 1.3],\n",
       "        [5.5, 2.6, 4.4, 1.2],\n",
       "        [6.1, 3. , 4.6, 1.4],\n",
       "        [5.8, 2.6, 4. , 1.2],\n",
       "        [5. , 2.3, 3.3, 1. ],\n",
       "        [5.6, 2.7, 4.2, 1.3],\n",
       "        [5.7, 3. , 4.2, 1.2],\n",
       "        [5.7, 2.9, 4.2, 1.3],\n",
       "        [6.2, 2.9, 4.3, 1.3],\n",
       "        [5.1, 2.5, 3. , 1.1],\n",
       "        [5.7, 2.8, 4.1, 1.3]]),\n",
       " array([0, 0, 0, 0, 0, 0, 0, 0, 0, 0, 0, 0, 0, 0, 0, 0, 0, 0, 0, 0, 0, 0,\n",
       "        0, 0, 0, 0, 0, 0, 0, 0, 0, 0, 0, 0, 0, 0, 0, 0, 0, 0, 0, 0, 0, 0,\n",
       "        0, 0, 0, 0, 0, 0, 1, 1, 1, 1, 1, 1, 1, 1, 1, 1, 1, 1, 1, 1, 1, 1,\n",
       "        1, 1, 1, 1, 1, 1, 1, 1, 1, 1, 1, 1, 1, 1, 1, 1, 1, 1, 1, 1, 1, 1,\n",
       "        1, 1, 1, 1, 1, 1, 1, 1, 1, 1, 1, 1]),\n",
       " (100, 4),\n",
       " (100,))"
      ]
     },
     "execution_count": 342,
     "metadata": {},
     "output_type": "execute_result"
    }
   ],
   "source": [
    "# 花类别数据\n",
    "data = pd.read_csv('./iris.data',header=None, names=['sepal length in cm','sepal width in cm','petal length in cm','petal width in cm','class' ])\n",
    "\n",
    "# 将数据进行类别转化\n",
    "classlabel = {'Iris-setosa':0, 'Iris-versicolor':1, 'Iris-virginica':2}\n",
    "data['class'] = data['class'].map(classlabel)\n",
    "\n",
    "dt = data[data['class'].isin([0,1])]   #表显示满足条件：列y中的值包含'6','8'的所有行。\n",
    "dt  \n",
    "x = np.array(dt[['sepal length in cm','sepal width in cm','petal length in cm','petal width in cm']])\n",
    "y = np.array(dt['class'])\n",
    "x,y, np.shape(x), np.shape(y)"
   ]
  },
  {
   "cell_type": "code",
   "execution_count": 14,
   "id": "42254a85",
   "metadata": {
    "ExecuteTime": {
     "end_time": "2023-01-11T01:31:36.702458Z",
     "start_time": "2023-01-11T01:31:36.677464Z"
    }
   },
   "outputs": [
    {
     "data": {
      "text/plain": [
       "(array([[0.02  , 0.0371, 0.0428, ..., 0.0084, 0.009 , 0.0032],\n",
       "        [0.0453, 0.0523, 0.0843, ..., 0.0049, 0.0052, 0.0044],\n",
       "        [0.0262, 0.0582, 0.1099, ..., 0.0164, 0.0095, 0.0078],\n",
       "        ...,\n",
       "        [0.0522, 0.0437, 0.018 , ..., 0.0138, 0.0077, 0.0031],\n",
       "        [0.0303, 0.0353, 0.049 , ..., 0.0079, 0.0036, 0.0048],\n",
       "        [0.026 , 0.0363, 0.0136, ..., 0.0036, 0.0061, 0.0115]]),\n",
       " array([0, 0, 0, 0, 0, 0, 0, 0, 0, 0, 0, 0, 0, 0, 0, 0, 0, 0, 0, 0, 0, 0,\n",
       "        0, 0, 0, 0, 0, 0, 0, 0, 0, 0, 0, 0, 0, 0, 0, 0, 0, 0, 0, 0, 0, 0,\n",
       "        0, 0, 0, 0, 0, 0, 0, 0, 0, 0, 0, 0, 0, 0, 0, 0, 0, 0, 0, 0, 0, 0,\n",
       "        0, 0, 0, 0, 0, 0, 0, 0, 0, 0, 0, 0, 0, 0, 0, 0, 0, 0, 0, 0, 0, 0,\n",
       "        0, 0, 0, 0, 0, 0, 0, 0, 0, 1, 1, 1, 1, 1, 1, 1, 1, 1, 1, 1, 1, 1,\n",
       "        1, 1, 1, 1, 1, 1, 1, 1, 1, 1, 1, 1, 1, 1, 1, 1, 1, 1, 1, 1, 1, 1,\n",
       "        1, 1, 1, 1, 1, 1, 1, 1, 1, 1, 1, 1, 1, 1, 1, 1, 1, 1, 1, 1, 1, 1,\n",
       "        1, 1, 1, 1, 1, 1, 1, 1, 1, 1, 1, 1, 1, 1, 1, 1, 1, 1, 1, 1, 1, 1,\n",
       "        1, 1, 1, 1, 1, 1, 1, 1, 1, 1, 1, 1, 1, 1, 1, 1, 1, 1, 1, 1, 1, 1,\n",
       "        1, 1, 1, 1, 1, 1, 1, 1, 1, 1]))"
      ]
     },
     "execution_count": 14,
     "metadata": {},
     "output_type": "execute_result"
    }
   ],
   "source": [
    "# Mines vs. Rocks数据集\n",
    "MR_data = pd.read_csv('./sonar.all-data',header=None, names=list(range(61)))\n",
    "MR_data.rename(columns={60:'class'}, inplace = True)\n",
    "\n",
    "# 对岩石进行标签分类\n",
    "classlabel = {'R':0, 'M':1}\n",
    "MR_data['class'] = MR_data['class'].map(classlabel)\n",
    "\n",
    "# 取特征与标签\n",
    "x = np.array(MR_data.iloc[:,:-1])\n",
    "y = np.array(MR_data.iloc[:,-1])\n",
    "x, y\n"
   ]
  },
  {
   "cell_type": "code",
   "execution_count": 129,
   "id": "c1896b82",
   "metadata": {
    "ExecuteTime": {
     "end_time": "2022-12-30T05:36:52.706130Z",
     "start_time": "2022-12-30T05:36:52.686200Z"
    }
   },
   "outputs": [
    {
     "data": {
      "text/plain": [
       "(array([[2, 2, 4, ..., 3, 2, 1],\n",
       "        [4, 4, 4, ..., 4, 2, 2],\n",
       "        [2, 2, 2, ..., 2, 2, 2],\n",
       "        ...,\n",
       "        [1, 1, 0, ..., 3, 0, 0],\n",
       "        [0, 0, 0, ..., 4, 3, 1],\n",
       "        [0, 0, 0, ..., 3, 3, 1]]),\n",
       " array([1, 1, 1, 1, 1, 1, 1, 1, 1, 1, 1, 1, 1, 1, 1, 1, 1, 1, 1, 1, 1, 1,\n",
       "        1, 1, 1, 1, 1, 1, 1, 1, 1, 1, 1, 1, 1, 1, 1, 1, 1, 1, 1, 1, 1, 1,\n",
       "        1, 1, 1, 1, 1, 1, 1, 1, 1, 1, 1, 1, 1, 1, 1, 1, 1, 1, 1, 1, 1, 1,\n",
       "        1, 1, 1, 1, 1, 1, 1, 1, 1, 1, 1, 1, 1, 1, 1, 1, 1, 1, 0, 0, 0, 0,\n",
       "        0, 0, 0, 0, 0, 0, 0, 0, 0, 0, 0, 0, 0, 0, 0, 0, 0, 0, 0, 0, 0, 0,\n",
       "        0, 0, 0, 0, 0, 0, 0, 0, 0, 0, 0, 0, 0, 0, 0, 0, 0, 0, 0, 0, 0, 0,\n",
       "        0, 0, 0, 0, 0, 0, 0, 0, 0, 0, 0, 0, 0, 0, 0, 0, 0, 0, 0, 0, 0, 0,\n",
       "        0, 0, 0, 0, 0, 0, 0, 0, 0, 0, 0, 0, 0, 0, 0, 0]))"
      ]
     },
     "execution_count": 129,
     "metadata": {},
     "output_type": "execute_result"
    }
   ],
   "source": [
    "# divorce.csv\n",
    "D_data = pd.read_csv('./divorce.csv', sep=';')\n",
    "\n",
    "# 取特征与标签\n",
    "x = np.array(D_data.iloc[:,:-1])\n",
    "y = np.array(D_data.iloc[:,-1])\n",
    "x, y"
   ]
  },
  {
   "cell_type": "code",
   "execution_count": 486,
   "id": "fb35d00a",
   "metadata": {
    "ExecuteTime": {
     "end_time": "2022-12-31T05:54:49.685341Z",
     "start_time": "2022-12-31T05:54:49.665236Z"
    }
   },
   "outputs": [
    {
     "data": {
      "text/plain": [
       "(array([[0, 0, 0, ..., 0, 0, 0],\n",
       "        [0, 0, 1, ..., 0, 0, 1],\n",
       "        [1, 0, 1, ..., 0, 0, 0],\n",
       "        ...,\n",
       "        [1, 0, 0, ..., 0, 0, 0],\n",
       "        [0, 0, 1, ..., 0, 1, 1],\n",
       "        [1, 0, 0, ..., 0, 0, 0]]),\n",
       " array([1, 1, 1, 1, 1, 1, 1, 1, 1, 1, 1, 1, 1, 1, 1, 1, 1, 1, 1, 1, 1, 1,\n",
       "        1, 1, 1, 1, 1, 1, 1, 1, 1, 1, 1, 1, 1, 1, 1, 1, 1, 1, 0, 0, 0, 0,\n",
       "        0, 0, 0, 0, 0, 0, 0, 0, 0, 0, 0, 0, 0, 0, 0, 0, 0, 0, 0, 0, 0, 0,\n",
       "        0, 0, 0, 0, 0, 0, 0, 0, 0, 0, 0, 0, 0, 0]),\n",
       " array([[1, 0, 0, ..., 1, 0, 0],\n",
       "        [1, 0, 0, ..., 0, 0, 0],\n",
       "        [0, 0, 0, ..., 0, 0, 1],\n",
       "        ...,\n",
       "        [1, 0, 1, ..., 0, 0, 0],\n",
       "        [1, 0, 1, ..., 0, 0, 0],\n",
       "        [0, 0, 0, ..., 0, 0, 0]]),\n",
       " array([1, 1, 1, 1, 1, 1, 1, 1, 1, 1, 1, 1, 1, 1, 1, 1, 1, 1, 1, 1, 1, 1,\n",
       "        1, 1, 1, 1, 1, 1, 1, 1, 1, 1, 1, 1, 1, 1, 1, 1, 1, 1, 1, 1, 1, 1,\n",
       "        1, 1, 1, 1, 1, 1, 1, 1, 1, 1, 1, 1, 1, 1, 1, 1, 1, 1, 1, 1, 1, 1,\n",
       "        1, 1, 1, 1, 1, 1, 1, 1, 1, 1, 1, 1, 1, 1, 1, 1, 1, 1, 1, 1, 1, 1,\n",
       "        1, 1, 1, 1, 1, 1, 1, 1, 1, 1, 1, 1, 1, 1, 1, 1, 1, 1, 1, 1, 1, 1,\n",
       "        1, 1, 1, 1, 1, 1, 1, 1, 1, 1, 1, 1, 1, 1, 1, 1, 1, 1, 1, 1, 1, 1,\n",
       "        1, 1, 1, 1, 1, 1, 1, 1, 1, 1, 1, 1, 1, 1, 1, 1, 1, 1, 1, 1, 1, 1,\n",
       "        1, 1, 1, 1, 1, 1, 1, 1, 1, 1, 1, 1, 1, 1, 1, 1, 1, 1, 0, 0, 0, 0,\n",
       "        0, 0, 0, 0, 0, 0, 0, 0, 0, 0, 0]))"
      ]
     },
     "execution_count": 486,
     "metadata": {},
     "output_type": "execute_result"
    }
   ],
   "source": [
    "# SPECT 心脏数据集\n",
    "train_data = pd.read_csv('./SPECT.train',header=None, names=list(range(23)))\n",
    "test_data = pd.read_csv('./SPECT.test',header=None, names=list(range(23)))\n",
    "\n",
    "X_train = np.array(train_data.iloc[:,1:])\n",
    "y_train = np.array(train_data.iloc[:,0])\n",
    "X_test = np.array(test_data.iloc[:,1:])\n",
    "y_test = np.array(test_data.iloc[:,0])\n",
    "X_train,y_train,X_test, y_test"
   ]
  },
  {
   "cell_type": "code",
   "execution_count": 10,
   "id": "05bf4e41",
   "metadata": {
    "ExecuteTime": {
     "end_time": "2022-12-31T08:23:29.911454Z",
     "start_time": "2022-12-31T08:23:29.900257Z"
    }
   },
   "outputs": [
    {
     "data": {
      "text/plain": [
       "(array([[3, 3, 3, 4, 2, 4],\n",
       "        [3, 2, 3, 5, 4, 3],\n",
       "        [5, 3, 3, 3, 3, 5],\n",
       "        [5, 4, 3, 3, 3, 5],\n",
       "        [5, 4, 3, 3, 3, 5],\n",
       "        [5, 5, 3, 5, 5, 5],\n",
       "        [3, 1, 2, 2, 1, 3],\n",
       "        [5, 4, 4, 4, 4, 5],\n",
       "        [4, 1, 4, 4, 4, 4],\n",
       "        [4, 4, 4, 2, 5, 5],\n",
       "        [3, 2, 3, 3, 2, 3],\n",
       "        [4, 4, 3, 4, 4, 4],\n",
       "        [5, 2, 4, 5, 5, 5],\n",
       "        [4, 2, 4, 5, 4, 3],\n",
       "        [4, 1, 3, 3, 4, 3],\n",
       "        [3, 2, 4, 3, 4, 4],\n",
       "        [5, 3, 4, 5, 4, 5],\n",
       "        [5, 1, 4, 3, 4, 5],\n",
       "        [5, 1, 2, 4, 4, 5],\n",
       "        [4, 2, 4, 4, 4, 4],\n",
       "        [4, 2, 3, 3, 4, 4],\n",
       "        [4, 2, 3, 3, 4, 4],\n",
       "        [4, 3, 5, 5, 5, 4],\n",
       "        [4, 3, 5, 5, 5, 4],\n",
       "        [5, 1, 2, 5, 2, 4],\n",
       "        [4, 3, 3, 3, 3, 4],\n",
       "        [3, 4, 3, 3, 2, 3],\n",
       "        [3, 3, 3, 5, 5, 5],\n",
       "        [3, 3, 1, 3, 3, 4],\n",
       "        [3, 3, 1, 3, 3, 4],\n",
       "        [5, 3, 3, 3, 5, 3],\n",
       "        [5, 3, 3, 3, 5, 3],\n",
       "        [4, 3, 3, 3, 4, 4],\n",
       "        [4, 1, 3, 4, 4, 5],\n",
       "        [3, 2, 4, 4, 4, 5],\n",
       "        [3, 2, 4, 4, 4, 5],\n",
       "        [4, 1, 3, 1, 1, 4],\n",
       "        [4, 2, 3, 3, 4, 4],\n",
       "        [5, 3, 4, 3, 4, 5],\n",
       "        [5, 3, 4, 3, 4, 5],\n",
       "        [5, 2, 3, 3, 2, 5],\n",
       "        [4, 4, 3, 4, 2, 4],\n",
       "        [4, 1, 3, 4, 4, 3],\n",
       "        [5, 2, 3, 3, 3, 3],\n",
       "        [4, 2, 4, 3, 2, 4],\n",
       "        [5, 2, 3, 3, 4, 5],\n",
       "        [4, 3, 3, 4, 2, 4],\n",
       "        [3, 1, 2, 4, 3, 5],\n",
       "        [5, 3, 4, 4, 4, 5],\n",
       "        [5, 3, 3, 4, 4, 5],\n",
       "        [1, 1, 1, 3, 1, 4],\n",
       "        [5, 2, 5, 5, 5, 3],\n",
       "        [5, 1, 3, 3, 4, 4],\n",
       "        [5, 1, 3, 3, 4, 4],\n",
       "        [5, 1, 3, 3, 4, 4],\n",
       "        [5, 2, 4, 3, 4, 5],\n",
       "        [5, 2, 4, 3, 4, 5],\n",
       "        [4, 3, 2, 4, 3, 4],\n",
       "        [4, 3, 2, 4, 3, 4],\n",
       "        [5, 1, 1, 5, 3, 5],\n",
       "        [4, 4, 4, 4, 3, 4],\n",
       "        [5, 3, 5, 5, 4, 5],\n",
       "        [5, 2, 4, 2, 2, 4],\n",
       "        [4, 4, 3, 3, 2, 5],\n",
       "        [4, 3, 3, 3, 3, 5],\n",
       "        [5, 2, 4, 4, 5, 5],\n",
       "        [5, 2, 4, 4, 5, 5],\n",
       "        [5, 5, 5, 2, 5, 5],\n",
       "        [4, 1, 3, 4, 4, 4],\n",
       "        [4, 1, 3, 4, 4, 4],\n",
       "        [3, 3, 3, 5, 4, 3],\n",
       "        [4, 1, 1, 3, 4, 4],\n",
       "        [5, 1, 5, 5, 5, 5],\n",
       "        [5, 4, 5, 5, 5, 5],\n",
       "        [4, 2, 2, 4, 4, 5],\n",
       "        [4, 3, 3, 4, 3, 4],\n",
       "        [3, 4, 3, 4, 1, 4],\n",
       "        [4, 5, 5, 5, 1, 3],\n",
       "        [4, 3, 3, 4, 2, 4],\n",
       "        [5, 2, 3, 3, 2, 5],\n",
       "        [5, 3, 3, 4, 3, 3],\n",
       "        [5, 2, 5, 5, 5, 5],\n",
       "        [3, 2, 3, 3, 4, 4],\n",
       "        [4, 3, 2, 3, 2, 4],\n",
       "        [5, 2, 3, 5, 5, 5],\n",
       "        [5, 3, 3, 3, 2, 5],\n",
       "        [5, 5, 5, 5, 5, 5],\n",
       "        [4, 3, 2, 4, 4, 4],\n",
       "        [3, 3, 3, 3, 3, 4],\n",
       "        [4, 2, 4, 4, 4, 4],\n",
       "        [5, 3, 2, 4, 4, 4],\n",
       "        [4, 3, 4, 4, 2, 4],\n",
       "        [5, 2, 3, 4, 4, 5],\n",
       "        [5, 3, 3, 3, 5, 5],\n",
       "        [4, 1, 3, 4, 4, 3],\n",
       "        [5, 2, 4, 5, 4, 5],\n",
       "        [5, 4, 2, 4, 3, 5],\n",
       "        [3, 3, 1, 3, 2, 3],\n",
       "        [3, 4, 5, 4, 5, 4],\n",
       "        [5, 1, 3, 4, 5, 5],\n",
       "        [5, 4, 5, 5, 5, 4],\n",
       "        [5, 5, 3, 4, 4, 5],\n",
       "        [5, 4, 4, 3, 3, 4],\n",
       "        [5, 4, 4, 4, 4, 5],\n",
       "        [3, 1, 3, 2, 1, 2],\n",
       "        [5, 5, 5, 5, 5, 5],\n",
       "        [4, 4, 3, 4, 3, 3],\n",
       "        [5, 4, 5, 4, 5, 4],\n",
       "        [4, 2, 3, 4, 3, 3],\n",
       "        [3, 3, 2, 4, 4, 4],\n",
       "        [5, 2, 2, 4, 5, 5],\n",
       "        [5, 3, 2, 4, 4, 5],\n",
       "        [3, 1, 2, 3, 3, 1],\n",
       "        [5, 3, 4, 3, 4, 3],\n",
       "        [5, 2, 3, 3, 3, 5],\n",
       "        [4, 3, 4, 4, 3, 4],\n",
       "        [3, 2, 2, 3, 3, 3],\n",
       "        [4, 1, 3, 5, 3, 5],\n",
       "        [5, 1, 4, 3, 5, 5],\n",
       "        [4, 1, 3, 2, 4, 4],\n",
       "        [5, 1, 5, 3, 5, 5],\n",
       "        [4, 2, 4, 4, 4, 4],\n",
       "        [5, 2, 4, 4, 5, 5],\n",
       "        [5, 3, 4, 4, 4, 4],\n",
       "        [5, 2, 4, 4, 2, 3],\n",
       "        [5, 3, 3, 4, 4, 5],\n",
       "        [5, 3, 3, 4, 4, 4],\n",
       "        [3, 2, 3, 3, 5, 4],\n",
       "        [4, 1, 3, 3, 3, 4],\n",
       "        [5, 1, 4, 4, 4, 5],\n",
       "        [5, 2, 2, 4, 4, 5],\n",
       "        [5, 3, 5, 4, 5, 5],\n",
       "        [3, 4, 4, 5, 1, 3],\n",
       "        [5, 1, 5, 5, 5, 5],\n",
       "        [4, 3, 3, 4, 4, 4],\n",
       "        [5, 5, 1, 1, 5, 1],\n",
       "        [4, 4, 4, 4, 1, 3],\n",
       "        [5, 2, 3, 4, 4, 3],\n",
       "        [5, 3, 3, 1, 3, 5],\n",
       "        [5, 2, 3, 4, 2, 5],\n",
       "        [5, 3, 3, 4, 4, 5],\n",
       "        [4, 3, 3, 4, 4, 5],\n",
       "        [5, 3, 2, 5, 5, 5]]),\n",
       " array([0, 0, 1, 0, 0, 1, 0, 1, 0, 0, 0, 0, 1, 0, 0, 1, 0, 1, 0, 0, 1, 1,\n",
       "        0, 0, 1, 1, 0, 1, 1, 1, 1, 0, 0, 0, 1, 1, 1, 0, 1, 1, 1, 1, 0, 0,\n",
       "        1, 0, 0, 1, 1, 1, 0, 1, 1, 1, 1, 1, 1, 1, 1, 0, 0, 1, 1, 1, 0, 1,\n",
       "        1, 0, 1, 1, 0, 0, 1, 1, 1, 1, 0, 0, 1, 0, 0, 1, 0, 0, 1, 0, 1, 1,\n",
       "        0, 1, 1, 0, 1, 1, 0, 1, 0, 0, 0, 1, 1, 1, 1, 1, 0, 1, 0, 1, 1, 0,\n",
       "        1, 1, 0, 1, 0, 1, 0, 0, 1, 0, 1, 0, 0, 1, 1, 0, 0, 0, 0, 0, 0, 0,\n",
       "        1, 1, 1, 1, 0, 1, 0, 1, 1, 0, 0]))"
      ]
     },
     "execution_count": 10,
     "metadata": {},
     "output_type": "execute_result"
    }
   ],
   "source": [
    "# SomervilleHappinessSurvey2015.csv   Somerville Happiness Survey Data Set\n",
    "SPS_data = pd.read_csv('./SomervilleHappinessSurvey2015.csv',encoding='utf-16')\n",
    "x = np.array(SPS_data.iloc[:,1:])\n",
    "y = np.array(SPS_data.iloc[:,0])\n",
    "x,y"
   ]
  },
  {
   "cell_type": "code",
   "execution_count": 12,
   "id": "fd3cf338",
   "metadata": {
    "ExecuteTime": {
     "end_time": "2023-01-03T08:08:48.573985Z",
     "start_time": "2023-01-03T08:08:48.560770Z"
    }
   },
   "outputs": [],
   "source": [
    "#  Breast Cancer Coimbra Data Set\n",
    "BCC_data = pd.read_csv('./dataR2.csv')\n",
    "\n",
    "# 标签分类\n",
    "classlabel = {1:0, 2:1}\n",
    "BCC_data['Classification'] = BCC_data['Classification'].map(classlabel)\n",
    "\n",
    "# 取特征与标签\n",
    "x = np.array(BCC_data.iloc[:,:-1])\n",
    "y = np.array(BCC_data.iloc[:,-1])\n",
    "# x.mean(axis=0), y\n",
    "\n",
    "\n",
    "# 特征值归一化\n",
    "def feature_normalize(data):\n",
    "    mu = np.mean(data,axis=0)\n",
    "    std = np.std(data,axis=0)\n",
    "    return (data - mu)/std\n",
    "\n",
    "x = feature_normalize(x)"
   ]
  },
  {
   "cell_type": "code",
   "execution_count": 13,
   "id": "1def79f1",
   "metadata": {
    "ExecuteTime": {
     "end_time": "2023-01-03T08:09:13.320451Z",
     "start_time": "2023-01-03T08:09:13.219560Z"
    }
   },
   "outputs": [],
   "source": [
    "# Raisin_Dataset.xlsx\n",
    "R_data = pd.read_excel('./Raisin_Dataset.xlsx')\n",
    "R_data\n",
    "\n",
    "# 标签分类\n",
    "classlabel = {'Kecimen':0, 'Besni':1}\n",
    "R_data['Class'] = R_data['Class'].map(classlabel)\n",
    "\n",
    "# 取特征与标签\n",
    "x = np.array(R_data.iloc[:,:-1])\n",
    "y = np.array(R_data.iloc[:,-1])\n",
    "# x.mean(axis=0), y\n",
    "\n",
    "\n",
    "# 特征值归一化\n",
    "def feature_normalize(data):\n",
    "    mu = np.mean(data,axis=0)\n",
    "    std = np.std(data,axis=0)\n",
    "    return (data - mu)/std\n",
    "\n",
    "x = feature_normalize(x)"
   ]
  },
  {
   "cell_type": "code",
   "execution_count": 57,
   "id": "8690dbb1",
   "metadata": {
    "ExecuteTime": {
     "end_time": "2023-01-03T08:38:18.732937Z",
     "start_time": "2023-01-03T08:38:18.708616Z"
    }
   },
   "outputs": [
    {
     "data": {
      "text/plain": [
       "(array([[ 0.455 ,  0.365 ,  0.095 , ...,  0.101 ,  0.15  , 15.    ],\n",
       "        [ 0.35  ,  0.265 ,  0.09  , ...,  0.0485,  0.07  ,  7.    ],\n",
       "        [ 0.53  ,  0.42  ,  0.135 , ...,  0.1415,  0.21  ,  9.    ],\n",
       "        ...,\n",
       "        [ 0.6   ,  0.475 ,  0.205 , ...,  0.2875,  0.308 ,  9.    ],\n",
       "        [ 0.625 ,  0.485 ,  0.15  , ...,  0.261 ,  0.296 , 10.    ],\n",
       "        [ 0.71  ,  0.555 ,  0.195 , ...,  0.3765,  0.495 , 12.    ]]),\n",
       " array([0, 0, 1, ..., 0, 1, 0]))"
      ]
     },
     "execution_count": 57,
     "metadata": {},
     "output_type": "execute_result"
    }
   ],
   "source": [
    "# Abalone Data Set\n",
    "A_data = pd.read_csv('./abalone.data',header=None, names=list(range(9)))\n",
    "A_data.rename(columns={0:'class'}, inplace = True)\n",
    "\n",
    "# 对岩石进行标签分类\n",
    "classlabel = {'M':0, 'F':1,'I':2}\n",
    "A_data['class'] = A_data['class'].map(classlabel)\n",
    "\n",
    "\n",
    "dt = A_data[A_data['class'].isin([0,1])]   #表显示满足条件：列y中的值包含'M','F'的所有行。\n",
    "dt\n",
    "# 取特征与标签\n",
    "x = np.array(dt.iloc[:,1:])\n",
    "y = np.array(dt.iloc[:,0])\n",
    "x, y"
   ]
  },
  {
   "cell_type": "code",
   "execution_count": 3,
   "id": "572b45a5",
   "metadata": {
    "ExecuteTime": {
     "end_time": "2023-01-09T07:23:08.374767Z",
     "start_time": "2023-01-09T07:23:08.278272Z"
    }
   },
   "outputs": [
    {
     "data": {
      "text/plain": [
       "(array([[-0.57722602, -0.33680419, -0.38113037, ..., -0.40584194,\n",
       "          0.47681587, -1.49786555],\n",
       "        [-0.51096889, -0.57002666, -0.64859479, ..., -0.49009359,\n",
       "         -0.81541816,  0.15312459],\n",
       "        [ 2.56827756,  6.20585836,  2.61578306, ..., -2.18302986,\n",
       "          1.88922413,  0.84263513],\n",
       "        ...,\n",
       "        [ 0.52392318,  1.38177927,  1.31887687, ..., -0.4665087 ,\n",
       "          0.10163583,  0.83900338],\n",
       "        [ 1.58775746,  2.98278123,  2.47337518, ..., -3.07720555,\n",
       "          2.18525981,  2.87032093],\n",
       "        [ 3.16145936,  1.67999288,  0.81314905, ...,  1.49930076,\n",
       "          0.96101431,  1.05044239]]),\n",
       " array([0, 0, 0, ..., 1, 1, 1]))"
      ]
     },
     "execution_count": 3,
     "metadata": {},
     "output_type": "execute_result"
    }
   ],
   "source": [
    "# magic04.data\n",
    "magic_data = pd.read_csv('./magic04.data',header=None, names=list(range(11)))\n",
    "magic_data.rename(columns={10:'class'}, inplace = True)\n",
    "\n",
    "# 标签分类\n",
    "classlabel = {'g':0, 'h':1}\n",
    "magic_data['class'] = magic_data['class'].map(classlabel)\n",
    "\n",
    "# 取特征与标签\n",
    "x = np.array(magic_data.iloc[:,:-1])\n",
    "y = np.array(magic_data.iloc[:,-1])\n",
    "# x.mean(axis=0), y\n",
    "\n",
    "\n",
    "# 特征值归一化\n",
    "def feature_normalize(data):\n",
    "    mu = np.mean(data,axis=0)\n",
    "    std = np.std(data,axis=0)\n",
    "    return (data - mu)/std\n",
    "\n",
    "x = feature_normalize(x)\n",
    "x,y"
   ]
  },
  {
   "cell_type": "code",
   "execution_count": 15,
   "id": "53c62f74",
   "metadata": {
    "ExecuteTime": {
     "end_time": "2023-01-11T01:31:51.881921Z",
     "start_time": "2023-01-11T01:31:51.871524Z"
    }
   },
   "outputs": [],
   "source": [
    "# 数据集\n",
    "\n",
    "class MyDataset(DT.Dataset):\n",
    "    \"\"\"\n",
    "        自定义dataset\n",
    "        把 dataset 放入 DataLoader\n",
    "        必须实现__getitem__和__len__方法\n",
    "\n",
    "    \"\"\"\n",
    "    def __init__(self, X, y):\n",
    "        super(MyDataset, self).__init__()\n",
    "        self.X = X\n",
    "        self.y = y\n",
    "        self.len = len(self.X)\n",
    "\n",
    "    def __getitem__(self, idx):\n",
    "        return [self.X[idx], self.y[idx]]\n",
    "\n",
    "    def __len__(self):\n",
    "        return self.len\n",
    "    \n",
    "# 划分数据集   \n",
    "X_train, X_test, y_train, y_test = train_test_split(x, y, test_size=0.3, random_state=42)\n",
    "X_train = torch.tensor(X_train, dtype=torch.float32)\n",
    "X_test = torch.tensor(X_test, dtype=torch.float32)\n",
    "y_train = torch.tensor(y_train, dtype=torch.float32)\n",
    "y_test = torch.tensor(y_test, dtype=torch.float32)\n",
    "    \n",
    "    \n",
    "# 将数据导入到数据集    \n",
    "traindata_set = MyDataset(X_train, y_train)\n",
    "testdata_set = MyDataset(X_test, y_test)\n",
    "# traindata_set = MyDataset(X, y)\n",
    "# testdata_set = MyDataset(X, y)"
   ]
  },
  {
   "cell_type": "code",
   "execution_count": 16,
   "id": "3742fe06",
   "metadata": {
    "ExecuteTime": {
     "end_time": "2023-01-11T01:31:54.063485Z",
     "start_time": "2023-01-11T01:31:54.057698Z"
    }
   },
   "outputs": [],
   "source": [
    "# 将数据集划分为训练数据集和测试数据集\n",
    "\n",
    "train_loader = DT.DataLoader(\n",
    "    dataset=traindata_set,      # torch TensorDataset format\n",
    "    shuffle=True,               # 要不要打乱数据 (打乱比较好)\n",
    "    batch_size=1,\n",
    "    num_workers=2,              # 多线程来读数据\n",
    ")\n",
    "test_loader = DT.DataLoader(\n",
    "    dataset=testdata_set,      # torch TensorDataset format\n",
    "    shuffle=True,               # 要不要打乱数据 (打乱比较好)\n",
    "    batch_size=1,\n",
    "    num_workers=2,              # 多线程来读数据\n",
    ")\n"
   ]
  },
  {
   "cell_type": "markdown",
   "id": "b0b7460a",
   "metadata": {},
   "source": [
    "## 参数初始化"
   ]
  },
  {
   "cell_type": "code",
   "execution_count": 24,
   "id": "fe4f1152",
   "metadata": {
    "ExecuteTime": {
     "end_time": "2023-01-11T01:32:59.445802Z",
     "start_time": "2023-01-11T01:32:59.442050Z"
    }
   },
   "outputs": [],
   "source": [
    "# 将权重w,偏置b初始为平均分布(-2.0, 2.0)之间的任意数\n",
    "def init_weight(m):\n",
    "    if isinstance(m, nn.Linear):\n",
    "        nn.init.uniform_(m.weight.data, -1.0, 1.0)\n",
    "        nn.init.uniform_(m.bias.data, -1.0, 1.0)\n",
    "        \n",
    "# 范围越大，权重起伏大，准确率也不稳定"
   ]
  },
  {
   "cell_type": "markdown",
   "id": "20024a03",
   "metadata": {},
   "source": [
    "## 模型"
   ]
  },
  {
   "cell_type": "code",
   "execution_count": 39,
   "id": "b9ec1887",
   "metadata": {
    "ExecuteTime": {
     "end_time": "2023-01-11T01:35:21.500910Z",
     "start_time": "2023-01-11T01:35:21.492006Z"
    }
   },
   "outputs": [
    {
     "name": "stdout",
     "output_type": "stream",
     "text": [
      "Parameter containing:\n",
      "tensor([[ 0.9382, -0.9119,  0.3635, -0.3537,  0.8445, -0.0837, -0.8794,  0.8676,\n",
      "         -0.3218,  0.3301, -0.5013,  0.9861, -0.7237, -0.4613,  0.8303, -0.5786,\n",
      "          0.4951,  0.6062,  0.5688,  0.3983,  0.5212,  0.4543,  0.0610,  0.2892,\n",
      "          0.7288,  0.0254, -0.3107, -0.6762, -0.2240,  0.3559, -0.3422, -0.2470,\n",
      "          0.4477,  0.7823,  0.2768,  0.2299,  0.6924,  0.9053, -0.3045,  0.8995,\n",
      "          0.8477, -0.2994, -0.7637, -0.7110,  0.2636,  0.2488, -0.6744, -0.4259,\n",
      "         -0.9315,  0.5883,  0.7620,  0.4727, -0.4068, -0.3832, -0.2172, -0.2114,\n",
      "          0.5796, -0.2272,  0.4031, -0.2171]], requires_grad=True) Parameter containing:\n",
      "tensor([-0.8037], requires_grad=True)\n"
     ]
    }
   ],
   "source": [
    "# 神经网络\n",
    "\n",
    "class Net(torch.nn.Module):\n",
    "    \"\"\"\n",
    "        自定义神经网络\n",
    "        隐藏层，输出层，激活函数\n",
    "        注意区分分类任务与回归任务\n",
    "    \"\"\"\n",
    "    def __init__(self, n_feature, n_output):\n",
    "        super(Net, self).__init__()\n",
    "        self.linear = torch.nn.Linear(n_feature, n_output)   # hidden layer\n",
    "        self.sigmoid = torch.nn.Sigmoid()\n",
    "\n",
    "    def forward(self, x):\n",
    "        y_hat = self.sigmoid(self.linear(x))      # activation function for hidden layer\n",
    "        return y_hat.squeeze(-1)\n",
    "\n",
    "# 模型初始化\n",
    "\n",
    "\n",
    "net = Net(60, 1)\n",
    "\n",
    "# 模型参数初始化\n",
    "\n",
    "net.linear.apply(init_weight)\n",
    "print(net.linear.weight,  net.linear.bias)"
   ]
  },
  {
   "cell_type": "markdown",
   "id": "af079f04",
   "metadata": {},
   "source": [
    "## 误差函数"
   ]
  },
  {
   "cell_type": "code",
   "execution_count": 40,
   "id": "c79d865b",
   "metadata": {
    "ExecuteTime": {
     "end_time": "2023-01-11T01:35:22.109497Z",
     "start_time": "2023-01-11T01:35:22.105190Z"
    }
   },
   "outputs": [],
   "source": [
    "# 熵误差\n",
    "\n",
    "class Entropyloss(torch.nn.Module):\n",
    "    def __init__(self):\n",
    "        super().__init__()\n",
    "    \n",
    "    def forward(self, y_hat, y):\n",
    "#         if y == 0 | (y_hat / y)==0 | ((1 - y_hat) / (1 - y))==0 | (1-y) == 0:\n",
    "#                 pass\n",
    "#         y_hat = torch.clamp(y_hat,0.01,1)     # 将超出异常的值规定为[0.1, 0.9]范围内\n",
    "#         y_hat/y = torch.clamp(y_hat/y, 0.01, 1,out=None)\n",
    "        # print(y_hat)\n",
    "        \n",
    "#         t1 = torch.where(torch.isinf(t1), torch.full_like(t1, 1), t1)\n",
    "#         t2 = torch.where(torch.isinf(t2), torch.full_like(t2, 1), t2)\n",
    "#         t1 = torch.where(torch.isnan(t1), torch.full_like(t1, 1), t1)\n",
    "#         t2 = torch.where(torch.isnan(t2), torch.full_like(t2, 1), t2)\n",
    "\n",
    "        return -torch.sum(y * torch.log((y_hat *1000) / (y*1000 +1e-8)) + (1 - y) * torch.log(((1 - y_hat)*1000) / ((1 - y)*1000 +1e-8))) \n"
   ]
  },
  {
   "cell_type": "code",
   "execution_count": 41,
   "id": "1125ff08",
   "metadata": {
    "ExecuteTime": {
     "end_time": "2023-01-11T01:35:32.753633Z",
     "start_time": "2023-01-11T01:35:32.750523Z"
    }
   },
   "outputs": [],
   "source": [
    "# 均方误差\n",
    "\n",
    "# criterion = torch.nn.MSELoss()\n",
    "criterion = Entropyloss()\n"
   ]
  },
  {
   "cell_type": "markdown",
   "id": "d2e55441",
   "metadata": {},
   "source": [
    "## 惩罚项"
   ]
  },
  {
   "cell_type": "code",
   "execution_count": 42,
   "id": "59e832a7",
   "metadata": {
    "ExecuteTime": {
     "end_time": "2023-01-11T01:35:33.366433Z",
     "start_time": "2023-01-11T01:35:33.359228Z"
    }
   },
   "outputs": [
    {
     "name": "stdout",
     "output_type": "stream",
     "text": [
      "tensor(31.2718)\n"
     ]
    }
   ],
   "source": [
    "# 正则化定义\n",
    "def L_half(netparam, a):\n",
    "    b1 = netparam <= -a\n",
    "    b2 = (netparam < a) & (netparam > -a)\n",
    "    b3 = netparam >= a\n",
    "    a1 = -netparam\n",
    "    a2 = - 1/(8 * a**3) * netparam**4 + 3/(4 * a) * netparam**2 + 3/8 * a\n",
    "    a3 = netparam\n",
    "    a1 = a1 * b1  # 和对应区间相乘\n",
    "    a2 = a2 * b2\n",
    "    a3 = a3 * b3\n",
    "    c = a1 + a2 + a3\n",
    "    return torch.sum(c)\n",
    "\n",
    "L_regularization = 0\n",
    "for netpara in net.parameters():\n",
    "    L_regularization += L_half(netpara.data, 0.09)\n",
    "print(L_regularization)"
   ]
  },
  {
   "cell_type": "code",
   "execution_count": 43,
   "id": "d554a36f",
   "metadata": {
    "ExecuteTime": {
     "end_time": "2023-01-11T01:35:33.713658Z",
     "start_time": "2023-01-11T01:35:33.708667Z"
    }
   },
   "outputs": [
    {
     "data": {
      "text/plain": [
       "7.0985000000000005"
      ]
     },
     "execution_count": 43,
     "metadata": {},
     "output_type": "execute_result"
    }
   ],
   "source": [
    "1.8486+1.2196+0.9351+0.8469+1.3078+0.9405"
   ]
  },
  {
   "cell_type": "markdown",
   "id": "f024daec",
   "metadata": {},
   "source": [
    "\n",
    "## 训练"
   ]
  },
  {
   "cell_type": "code",
   "execution_count": 44,
   "id": "0b17a09b",
   "metadata": {
    "ExecuteTime": {
     "end_time": "2023-01-11T01:35:41.642836Z",
     "start_time": "2023-01-11T01:35:34.403617Z"
    }
   },
   "outputs": [
    {
     "name": "stdout",
     "output_type": "stream",
     "text": [
      "epoch: 0 loss： tensor(0.8097, grad_fn=<AddBackward0>) acc: 0.5172\n",
      "epoch: 1 loss： tensor(1.3258, grad_fn=<AddBackward0>) acc: 0.5655\n",
      "epoch: 2 loss： tensor(1.6425, grad_fn=<AddBackward0>) acc: 0.5793\n",
      "epoch: 3 loss： tensor(0.8284, grad_fn=<AddBackward0>) acc: 0.6552\n",
      "epoch: 4 loss： tensor(0.9487, grad_fn=<AddBackward0>) acc: 0.6552\n",
      "epoch: 5 loss： tensor(1.0149, grad_fn=<AddBackward0>) acc: 0.7241\n",
      "epoch: 6 loss： tensor(1.0577, grad_fn=<AddBackward0>) acc: 0.6966\n",
      "epoch: 7 loss： tensor(1.1075, grad_fn=<AddBackward0>) acc: 0.7034\n",
      "epoch: 8 loss： tensor(0.8072, grad_fn=<AddBackward0>) acc: 0.7448\n",
      "epoch: 9 loss： tensor(0.9427, grad_fn=<AddBackward0>) acc: 0.7517\n",
      "epoch: 10 loss： tensor(0.8063, grad_fn=<AddBackward0>) acc: 0.7172\n",
      "epoch: 11 loss： tensor(1.1495, grad_fn=<AddBackward0>) acc: 0.7517\n",
      "epoch: 12 loss： tensor(1.5720, grad_fn=<AddBackward0>) acc: 0.7448\n",
      "epoch: 13 loss： tensor(1.1697, grad_fn=<AddBackward0>) acc: 0.7586\n",
      "epoch: 14 loss： tensor(0.7494, grad_fn=<AddBackward0>) acc: 0.7517\n",
      "epoch: 15 loss： tensor(0.9266, grad_fn=<AddBackward0>) acc: 0.7586\n",
      "epoch: 16 loss： tensor(1.0781, grad_fn=<AddBackward0>) acc: 0.7655\n",
      "epoch: 17 loss： tensor(1.3108, grad_fn=<AddBackward0>) acc: 0.731\n",
      "epoch: 18 loss： tensor(0.8404, grad_fn=<AddBackward0>) acc: 0.7655\n",
      "epoch: 19 loss： tensor(1.3801, grad_fn=<AddBackward0>) acc: 0.7586\n",
      "epoch: 20 loss： tensor(1.4636, grad_fn=<AddBackward0>) acc: 0.7655\n",
      "epoch: 21 loss： tensor(1.0403, grad_fn=<AddBackward0>) acc: 0.8207\n",
      "epoch: 22 loss： tensor(1.0051, grad_fn=<AddBackward0>) acc: 0.7862\n",
      "epoch: 23 loss： tensor(1.1401, grad_fn=<AddBackward0>) acc: 0.7931\n",
      "epoch: 24 loss： tensor(1.0859, grad_fn=<AddBackward0>) acc: 0.7724\n",
      "epoch: 25 loss： tensor(1.4441, grad_fn=<AddBackward0>) acc: 0.7655\n",
      "epoch: 26 loss： tensor(1.9912, grad_fn=<AddBackward0>) acc: 0.8345\n",
      "epoch: 27 loss： tensor(0.9594, grad_fn=<AddBackward0>) acc: 0.7862\n",
      "epoch: 28 loss： tensor(0.9274, grad_fn=<AddBackward0>) acc: 0.7793\n",
      "epoch: 29 loss： tensor(1.1400, grad_fn=<AddBackward0>) acc: 0.8069\n"
     ]
    },
    {
     "data": {
      "text/plain": [
       "<matplotlib.legend.Legend at 0x7f06fc059cd0>"
      ]
     },
     "execution_count": 44,
     "metadata": {},
     "output_type": "execute_result"
    },
    {
     "data": {
      "image/png": "[encoded data removed]",
      "text/plain": [
       "<Figure size 300x600 with 1 Axes>"
      ]
     },
     "metadata": {},
     "output_type": "display_data"
    }
   ],
   "source": [
    "# 优化器\n",
    "\n",
    "optimizer = torch.optim.SGD(net.parameters(), lr = 0.05)   # 在其他条件不变的情况下，学习率越高，准确率不稳定\n",
    "\n",
    "# 训练数据\n",
    "x = []\n",
    "train_loss_list = []\n",
    "val_loss_list = []\n",
    "train_acc_list = []\n",
    "val_acc_list = []\n",
    "\n",
    "for epoch in range(30):   # 训练所有数据，整套数据 100 次out_list = []\n",
    "    loss_list = []\n",
    "    n = 0\n",
    "    \n",
    "    for step, (batch_x, batch_y) in enumerate(train_loader):  # 每一步 loader 释放一小批数据用来学习\n",
    "        # 假设这里就是你训练的地方...\n",
    "        \n",
    "        out = net(batch_x) # input x and predict based on x\n",
    "#         print(out.data)\n",
    "        L_regularization = 0\n",
    "        for netpara in net.parameters():\n",
    "            L_regularization += L_half(netpara.data, 0.08)    # a越大，学习率越大，越不稳定\n",
    "        loss = criterion(out, batch_y) + 0.02 * L_regularization  # 加入正则项之后的误差函数\n",
    "    \n",
    "        \n",
    "        if out >= 0.5:\n",
    "            out = torch.tensor(1.0)\n",
    "        else:\n",
    "            out = torch.tensor(0.0) \n",
    "            \n",
    "        if out == batch_y:  # 判断输出是否正确\n",
    "            n += 1\n",
    "        \n",
    "        optimizer.zero_grad()   # clear gradients for next train\n",
    "        loss.backward()         # backpropagation, compute gradients\n",
    "        optimizer.step()        # apply gradients\n",
    "        \n",
    "        loss_list.append(loss.item())   # 计算每个epoch的平均损失，并记录 \n",
    "#     if epoch % 5 == 0:\n",
    "    print(\"epoch:\", epoch, 'loss：',loss, 'acc:', round(n / len(train_loader), 4))\n",
    "        \n",
    "    train_acc_list.append(round(n / len(train_loader), 4))\n",
    "    x.append(epoch)\n",
    "    train_loss_list.append(np.sum(loss_list)/len(train_loader))\n",
    "                    \n",
    "plt.figure(figsize=(3, 6), dpi=100)\n",
    "    # 创建两行一列的图，并指定当前使用第一个图\n",
    "plt.subplot(2, 1, 1)\n",
    "try:\n",
    "    train_loss_lines.remove(train_loss_lines[0])  # 移除上一步曲线\n",
    "    val_loss_lines.remove(val_loss_lines[0])\n",
    "except Exception:\n",
    "    pass\n",
    "\n",
    "train_loss_lines = plt.plot(x, train_loss_list, 'r', lw=1)  # lw为曲线宽度\n",
    "train_acc_lines = plt.plot(x, train_acc_list, 'b', lw=1)\n",
    "plt.title(\"loss\")\n",
    "plt.xlabel(\"epoch\")\n",
    "plt.ylabel(\"loss\")\n",
    "plt.legend([\"train_loss\",'train_acc'])\n",
    "        \n",
    "# print('均损失：', loss_list)\n",
    "# print('准确率：', train_acc)"
   ]
  },
  {
   "cell_type": "code",
   "execution_count": 97,
   "id": "9b9102b7",
   "metadata": {
    "ExecuteTime": {
     "end_time": "2023-01-03T09:24:48.151621Z",
     "start_time": "2023-01-03T09:24:48.146251Z"
    }
   },
   "outputs": [
    {
     "data": {
      "text/plain": [
       "tensor([0.])"
      ]
     },
     "execution_count": 97,
     "metadata": {},
     "output_type": "execute_result"
    }
   ],
   "source": [
    "torch.round(torch.tensor([0.1545222221101]))\n",
    "\n"
   ]
  },
  {
   "cell_type": "markdown",
   "id": "cd510432",
   "metadata": {},
   "source": [
    "## 测试"
   ]
  },
  {
   "cell_type": "code",
   "execution_count": 45,
   "id": "28ff8019",
   "metadata": {
    "ExecuteTime": {
     "end_time": "2023-01-11T01:35:44.629246Z",
     "start_time": "2023-01-11T01:35:44.471567Z"
    }
   },
   "outputs": [
    {
     "name": "stdout",
     "output_type": "stream",
     "text": [
      "acc: 0.8095\n"
     ]
    }
   ],
   "source": [
    "n = 0\n",
    "val_loss_list = []\n",
    "val_acc_list = []\n",
    "for step, (X, y) in enumerate(test_loader):\n",
    "\n",
    "        # 进行预测，也就是做了一次前向传播\n",
    "        y_pred = net(X)\n",
    "\n",
    "        # 计算准确率\n",
    "        if y_pred >= 0.5:\n",
    "            y_pred = torch.tensor(1.0)\n",
    "        else:\n",
    "            y_pred = torch.tensor(0.0) \n",
    "            \n",
    "        if y_pred == y:  # 判断输出是否正确\n",
    "            n += 1\n",
    "  \n",
    "print('acc:', round(n / len(test_loader), 4))\n",
    "            "
   ]
  },
  {
   "cell_type": "code",
   "execution_count": null,
   "id": "49ad23bb",
   "metadata": {},
   "outputs": [],
   "source": [
    "print(\"accuracy =\", float((out.data.numpy() == batch_y.data.numpy()).astype(int).sum()) / float(batch_y.data.numpy().size))\n",
    "    if step % 2 == 0:\n",
    "        # plot and show learning process\n",
    "        plt.cla()\n",
    "        prediction = out\n",
    "        pred_y = prediction.data.numpy()\n",
    "        target_y = batch_y.data.numpy()\n",
    "        plt.scatter(batch_x.data.numpy()[:, 0], batch_x.data.numpy()[:, 1], c=pred_y, s=100, lw=0, cmap='RdYlGn')\n",
    "        accuracy = float((pred_y == target_y).astype(int).sum()) / float(target_y.size)\n",
    "        plt.text(1.5, -4, 'Accuracy=%.2f' % accuracy, fontdict={'size': 20, 'color':  'red'})\n",
    "        plt.pause(0.1)"
   ]
  },
  {
   "cell_type": "markdown",
   "id": "764b9b77",
   "metadata": {},
   "source": [
    "## 可视化"
   ]
  },
  {
   "cell_type": "code",
   "execution_count": 36,
   "id": "64d1c062",
   "metadata": {
    "ExecuteTime": {
     "end_time": "2022-12-15T03:39:22.292511Z",
     "start_time": "2022-12-15T03:39:22.057584Z"
    }
   },
   "outputs": [
    {
     "data": {
      "image/png": "[encoded data removed]",
      "text/plain": [
       "<Figure size 300x600 with 2 Axes>"
      ]
     },
     "metadata": {},
     "output_type": "display_data"
    }
   ],
   "source": [
    "import matplotlib.pyplot as plt\n",
    "\n",
    "if __name__ == '__main__':\n",
    "    train_loss = 5\n",
    "    val_loss = 5\n",
    "    train_acc = 0.0\n",
    "    val_acc = 0.0\n",
    "\n",
    "    x = []\n",
    "    train_loss_list = []\n",
    "    val_loss_list = []\n",
    "    train_acc_list = []\n",
    "    val_acc_list = []\n",
    "\n",
    "    for epoch in range(200):\n",
    "\n",
    "        # 生成数据，此处应根据实际训练过程获取训练集loss和acc\n",
    "        # 以及验证集loss和acc\n",
    "        train_loss -= epoch * 0.1\n",
    "        val_loss -= epoch * 0.11\n",
    "\n",
    "        train_acc += epoch*0.01\n",
    "        val_acc += epoch*0.011\n",
    "\n",
    "        x.append(epoch)\n",
    "        train_loss_list.append(train_loss)\n",
    "        val_loss_list.append(val_loss)\n",
    "        train_acc_list.append(train_acc)\n",
    "        val_acc_list.append(val_acc)\n",
    "\n",
    "    plt.figure(figsize=(3, 6), dpi=100)\n",
    "    # 创建两行一列的图，并指定当前使用第一个图\n",
    "    plt.subplot(2, 1, 1)\n",
    "    try:\n",
    "        train_loss_lines.remove(train_loss_lines[0])  # 移除上一步曲线\n",
    "        val_loss_lines.remove(val_loss_lines[0])\n",
    "    except Exception:\n",
    "        pass\n",
    "\n",
    "    train_loss_lines = plt.plot(x, train_loss_list, 'r', lw=1)  # lw为曲线宽度\n",
    "    val_loss_lines = plt.plot(x, val_loss_list, 'b', lw=1)\n",
    "    plt.title(\"loss\")\n",
    "    plt.xlabel(\"epoch\")\n",
    "    plt.ylabel(\"loss\")\n",
    "    plt.legend([\"train_loss\",\n",
    "                \"val_loss\"])\n",
    "\n",
    "    # # 创建两行一列的图，并指定当前使用第二个图\n",
    "    plt.subplot(2, 1, 2)\n",
    "    try:\n",
    "        train_acc_lines.remove(train_acc_lines[0])  # 移除上一步曲线\n",
    "        val_acc_lines.remove(val_acc_lines[0])\n",
    "    except Exception:\n",
    "        pass\n",
    "\n",
    "    train_acc_lines = plt.plot(x, train_acc_list, 'r', lw=1)  # lw为曲线宽度\n",
    "    val_acc_lines = plt.plot(x, val_acc_list, 'b', lw=1)\n",
    "    plt.title(\"acc\")\n",
    "    plt.xlabel(\"epoch\")\n",
    "    plt.ylabel(\"acc\")\n",
    "    plt.legend([\"train_acc\",\n",
    "                \"val_acc\"])\n",
    "\n",
    "    plt.show()\n",
    "    plt.pause(0.1)  # 图片停留0.1s\n"
   ]
  },
  {
   "cell_type": "code",
   "execution_count": 37,
   "id": "b6353505",
   "metadata": {
    "ExecuteTime": {
     "end_time": "2022-12-15T03:41:12.631098Z",
     "start_time": "2022-12-15T03:41:12.618026Z"
    }
   },
   "outputs": [
    {
     "ename": "IndentationError",
     "evalue": "unexpected indent (3232708856.py, line 2)",
     "output_type": "error",
     "traceback": [
      "\u001b[0;36m  Cell \u001b[0;32mIn [37], line 2\u001b[0;36m\u001b[0m\n\u001b[0;31m    if step % 2 == 0:\u001b[0m\n\u001b[0m    ^\u001b[0m\n\u001b[0;31mIndentationError\u001b[0m\u001b[0;31m:\u001b[0m unexpected indent\n"
     ]
    }
   ],
   "source": [
    "print(\"accuracy =\", float((out.data.numpy() == batch_y.data.numpy()).astype(int).sum()) / float(batch_y.data.numpy().size))\n",
    "    if step % 2 == 0:\n",
    "        # plot and show learning process\n",
    "        plt.cla()\n",
    "        prediction = out\n",
    "        pred_y = prediction.data.numpy()\n",
    "        target_y = batch_y.data.numpy()\n",
    "        plt.scatter(batch_x.data.numpy()[:, 0], batch_x.data.numpy()[:, 1], c=pred_y, s=100, lw=0, cmap='RdYlGn')\n",
    "        accuracy = float((pred_y == target_y).astype(int).sum()) / float(target_y.size)\n",
    "        plt.text(1.5, -4, 'Accuracy=%.2f' % accuracy, fontdict={'size': 20, 'color':  'red'})\n",
    "        plt.pause(0.1)"
   ]
  },
  {
   "cell_type": "code",
   "execution_count": 14,
   "id": "60c2a09b",
   "metadata": {
    "ExecuteTime": {
     "end_time": "2022-12-15T04:33:59.201590Z",
     "start_time": "2022-12-15T04:33:59.195567Z"
    }
   },
   "outputs": [
    {
     "data": {
      "text/plain": [
       "array([0, 1, 2, 3, 4])"
      ]
     },
     "execution_count": 14,
     "metadata": {},
     "output_type": "execute_result"
    }
   ],
   "source": [
    "l = np.arange(5)\n",
    "l"
   ]
  },
  {
   "cell_type": "code",
   "execution_count": 15,
   "id": "47eb4152",
   "metadata": {
    "ExecuteTime": {
     "end_time": "2022-12-15T04:34:18.552163Z",
     "start_time": "2022-12-15T04:34:18.547360Z"
    }
   },
   "outputs": [
    {
     "data": {
      "text/plain": [
       "[array([0, 1, 2, 3, 4])]"
      ]
     },
     "execution_count": 15,
     "metadata": {},
     "output_type": "execute_result"
    }
   ],
   "source": [
    "li = []\n",
    "li.append(l)\n",
    "li"
   ]
  },
  {
   "cell_type": "code",
   "execution_count": null,
   "id": "b02c7f2e",
   "metadata": {},
   "outputs": [],
   "source": []
  }
 ],
 "metadata": {
  "hide_input": false,
  "kernelspec": {
   "display_name": "Python 3 (ipykernel)",
   "language": "python",
   "name": "python3"
  },
  "language_info": {
   "codemirror_mode": {
    "name": "ipython",
    "version": 3
   },
   "file_extension": ".py",
   "mimetype": "text/x-python",
   "name": "python",
   "nbconvert_exporter": "python",
   "pygments_lexer": "ipython3",
   "version": "3.8.0"
  },
  "toc": {
   "base_numbering": 1,
   "nav_menu": {},
   "number_sections": true,
   "sideBar": true,
   "skip_h1_title": false,
   "title_cell": "Table of Contents",
   "title_sidebar": "Contents",
   "toc_cell": false,
   "toc_position": {},
   "toc_section_display": true,
   "toc_window_display": false
  },
  "varInspector": {
   "cols": {
    "lenName": 16,
    "lenType": 16,
    "lenVar": 40
   },
   "kernels_config": {
    "python": {
     "delete_cmd_postfix": "",
     "delete_cmd_prefix": "del ",
     "library": "var_list.py",
     "varRefreshCmd": "print(var_dic_list())"
    },
    "r": {
     "delete_cmd_postfix": ") ",
     "delete_cmd_prefix": "rm(",
     "library": "var_list.r",
     "varRefreshCmd": "cat(var_dic_list()) "
    }
   },
   "types_to_exclude": [
    "module",
    "function",
    "builtin_function_or_method",
    "instance",
    "_Feature"
   ],
   "window_display": false
  }
 },
 "nbformat": 4,
 "nbformat_minor": 5
}
