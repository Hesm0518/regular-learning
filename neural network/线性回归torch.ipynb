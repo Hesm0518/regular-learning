{
 "cells": [
  {
   "cell_type": "code",
   "execution_count": 10,
   "id": "27baf7b7",
   "metadata": {},
   "outputs": [],
   "source": [
    "%matplotlib inline\n",
    "import random\n",
    "import torch\n",
    "import matplotlib.pyplot as plt\n",
    "import numpy"
   ]
  },
  {
   "cell_type": "code",
   "execution_count": 7,
   "id": "7a01fcd4",
   "metadata": {},
   "outputs": [],
   "source": [
    "# 根据带有噪声的线性模型构造一个人造数据集.使用线性模型参数w=[2,-3.4]T 、b=4.2和噪声项生成数据集及其标签：\n",
    "#     y = Xw + b + e\n",
    "# 你可以将视为模型预测和标签时的潜在观测误差。 在这里我们认为标准假设成立，即服从均值为0的正态分布。 为了简化问题，我们将标准差设为0.01。 下面的代码生成合成数据集"
   ]
  },
  {
   "cell_type": "code",
   "execution_count": 8,
   "id": "505383b5",
   "metadata": {},
   "outputs": [],
   "source": [
    "def synthetic_data(w, b, num_examples):\n",
    "    ''' 生成 y = Xw + b + 噪声。'''\n",
    "    X = torch.normal(0,1, (num_examples,len(w)))   # torch.normal(均值，方差，样本大小（样本个数，样本的列数）) \n",
    "    y = torch.matmul(X, w) + b \n",
    "    y += torch.normal(0, 0.01, y.shape)\n",
    "    return X,y.reshape((-1,1))\n",
    "\n",
    "true_w = torch.tensor([2, -3.4])\n",
    "true_b = 4.2\n",
    "features, labels = synthetic_data(true_w, true_b, 1000)"
   ]
  },
  {
   "cell_type": "code",
   "execution_count": 12,
   "id": "d576a90c",
   "metadata": {},
   "outputs": [
    {
     "name": "stdout",
     "output_type": "stream",
     "text": [
      "features: tensor([-0.5409, -0.3053]) \n",
      "label: tensor([4.1565])\n"
     ]
    }
   ],
   "source": [
    "# features中的每一行都包含一个二维数据样本， labels中的每一行都包含一维标签值（一个标量）。\n",
    "print('features:',features[0],'\\nlabel:',labels[0])"
   ]
  },
  {
   "cell_type": "code",
   "execution_count": 13,
   "id": "18d678a2",
   "metadata": {},
   "outputs": [
    {
     "data": {
      "text/plain": [
       "<matplotlib.collections.PathCollection at 0x159132fb0d0>"
      ]
     },
     "execution_count": 13,
     "metadata": {},
     "output_type": "execute_result"
    },
    {
     "data": {
      "image/png": "[encoded data removed]",
      "text/plain": [
       "<Figure size 640x480 with 1 Axes>"
      ]
     },
     "metadata": {},
     "output_type": "display_data"
    }
   ],
   "source": [
    "plt.figure()\n",
    "plt.scatter(features[:,1].detach().numpy(),labels.detach().numpy(),1)"
   ]
  },
  {
   "cell_type": "markdown",
   "id": "7a7b8418",
   "metadata": {},
   "source": [
    "## 线性回归从零实现 "
   ]
  },
  {
   "cell_type": "markdown",
   "id": "1c9dcf60",
   "metadata": {},
   "source": [
    "### 训练模型时要对数据集进行遍历，每次抽取一小批量样本，并使用它们来更新我们的模型。 由于这个过程是训练机器学习算法的基础，所以有必要定义一个函数， 该函数能打乱数据集中的样本并以小批量方式获取数据。\n",
    "### 定义一个data_iter函数， 该函数接收批量大小、特征矩阵和标签向量作为输入，生成大小为batch_size的小批量。 每个小批量包含一组特征和标签。"
   ]
  },
  {
   "cell_type": "code",
   "execution_count": 17,
   "id": "f02dbbbd",
   "metadata": {},
   "outputs": [
    {
     "name": "stdout",
     "output_type": "stream",
     "text": [
      "tensor([[-2.0369, -2.1730],\n",
      "        [-2.0231,  0.8116],\n",
      "        [ 0.4261,  0.8551],\n",
      "        [ 0.2290,  0.1696],\n",
      "        [ 0.0480,  0.8196],\n",
      "        [-0.1605, -1.1703],\n",
      "        [-0.5926,  0.0343],\n",
      "        [ 1.3403,  0.6840],\n",
      "        [ 0.6609, -0.8566],\n",
      "        [-0.4877, -0.6932]]) \n",
      " tensor([[ 7.5056],\n",
      "        [-2.5963],\n",
      "        [ 2.1253],\n",
      "        [ 4.0658],\n",
      "        [ 1.5343],\n",
      "        [ 7.8405],\n",
      "        [ 2.8952],\n",
      "        [ 4.5589],\n",
      "        [ 8.4328],\n",
      "        [ 5.5695]])\n"
     ]
    }
   ],
   "source": [
    "def data_iter(batch_size, features, labels):\n",
    "    num_examples = len(features)\n",
    "    indices = list(range(num_examples))\n",
    "    # 这些样本是随机读取的，没有特定的顺序\n",
    "    random.shuffle(indices)\n",
    "    for i in range(0, num_examples, batch_size):\n",
    "        batch_indices = torch.tensor(\n",
    "        indices[i:min(i+batch_size, num_examples)])\n",
    "        yield features[batch_indices], labels[batch_indices]   # 产生随机顺序的特征以及随机顺序所对应的标签\n",
    "\n",
    "        \n",
    "# 读取第一个小批量数据样本并打印。 每个批量的特征维度显示批量大小和输入特征数。 同样的，批量的标签形状与batch_size相等\n",
    "batch_size = 10\n",
    "\n",
    "for X,y in data_iter(batch_size, features, labels):\n",
    "    print(X, '\\n', y)\n",
    "    break"
   ]
  },
  {
   "cell_type": "markdown",
   "id": "581251ca",
   "metadata": {},
   "source": [
    "### 定义初始化模型参数"
   ]
  },
  {
   "cell_type": "code",
   "execution_count": 39,
   "id": "98764877",
   "metadata": {},
   "outputs": [],
   "source": [
    "w = torch.normal(0, 0.01, size=(2, 1), requires_grad=True)\n",
    "b = torch.zeros(1, requires_grad = True)"
   ]
  },
  {
   "cell_type": "markdown",
   "id": "d4c37d4b",
   "metadata": {},
   "source": [
    "##### 定义模型"
   ]
  },
  {
   "cell_type": "code",
   "execution_count": 40,
   "id": "ab815128",
   "metadata": {},
   "outputs": [],
   "source": [
    "def linreg(X, w, b):\n",
    "    '''线性回归模型'''\n",
    "    return torch.matmul(X, w) + b"
   ]
  },
  {
   "cell_type": "markdown",
   "id": "41105638",
   "metadata": {},
   "source": [
    "### 定义损失函数"
   ]
  },
  {
   "cell_type": "code",
   "execution_count": 41,
   "id": "b80b3756",
   "metadata": {},
   "outputs": [],
   "source": [
    "def squared_loss(y_hat, y):\n",
    "    '''均方损失'''\n",
    "    return (y_hat - y.reshape(y_hat.shape))**2 / 2"
   ]
  },
  {
   "cell_type": "markdown",
   "id": "1017d42f",
   "metadata": {},
   "source": [
    " ### 定义优化算法 "
   ]
  },
  {
   "cell_type": "code",
   "execution_count": 42,
   "id": "61067091",
   "metadata": {},
   "outputs": [],
   "source": [
    "def sgd(params, lr, batch_size):\n",
    "    '''小批量随机梯度下降'''\n",
    "    with torch.no_grad():\n",
    "        for param in params:\n",
    "            param -= lr * param.grad / batch_size\n",
    "            param.grad.zero_()"
   ]
  },
  {
   "cell_type": "markdown",
   "id": "239d5af5",
   "metadata": {},
   "source": [
    "### 训练过程"
   ]
  },
  {
   "cell_type": "code",
   "execution_count": 43,
   "id": "0b44ebe7",
   "metadata": {},
   "outputs": [
    {
     "name": "stdout",
     "output_type": "stream",
     "text": [
      "epoch 1, loss 0.038674\n",
      "epoch 2, loss 0.000152\n",
      "epoch 3, loss 0.000051\n"
     ]
    }
   ],
   "source": [
    "lr = 0.03   # 学习率\n",
    "num_epochs = 3    # 全扫数据三次\n",
    "net = linreg       # 模型\n",
    "loss = squared_loss    # 损失函数\n",
    "\n",
    "for epoch in range(num_epochs):\n",
    "    for X, y in data_iter(batch_size, features, labels):\n",
    "        l = loss(net(X, w, b), y)    # 'X'和'y'的小批量损失\n",
    "        # 因为'l'形状是('batch_size', 1),而不是一个标量。\n",
    "        # 并以此计算关于['w','b']的梯度\n",
    "        l.sum().backward()\n",
    "        sgd([w,b], lr, batch_size)   # 使用参数的梯度更新参数\n",
    "    with torch.no_grad():\n",
    "        train_l = loss(net(features, w, b), labels)\n",
    "        print(f'epoch {epoch + 1}, loss {float(train_l.mean()):f}')"
   ]
  },
  {
   "cell_type": "markdown",
   "id": "71c69e88",
   "metadata": {},
   "source": [
    "### 比较真实参数和通过训练学到的参数来评估训练的成功程度"
   ]
  },
  {
   "cell_type": "code",
   "execution_count": 44,
   "id": "9351ef39",
   "metadata": {},
   "outputs": [
    {
     "name": "stdout",
     "output_type": "stream",
     "text": [
      "w的估计误差: tensor([-0.0001, -0.0005], grad_fn=<SubBackward0>)\n",
      "b的估计误差: tensor([0.0013], grad_fn=<RsubBackward1>)\n"
     ]
    }
   ],
   "source": [
    "print(f'w的估计误差: {true_w - w.reshape(true_w.shape)}')\n",
    "print(f'b的估计误差: {true_b - b}')"
   ]
  },
  {
   "cell_type": "markdown",
   "id": "35420189",
   "metadata": {},
   "source": [
    "## 线性回归简洁实现"
   ]
  },
  {
   "cell_type": "code",
   "execution_count": 45,
   "id": "77de8153",
   "metadata": {},
   "outputs": [],
   "source": [
    "import numpy as np\n",
    "import torch\n",
    "from torch.utils import data"
   ]
  },
  {
   "cell_type": "markdown",
   "id": "385fa20e",
   "metadata": {},
   "source": [
    "###  生成数据集"
   ]
  },
  {
   "cell_type": "code",
   "execution_count": 46,
   "id": "5f6f7a4f",
   "metadata": {},
   "outputs": [],
   "source": [
    "true_w = torch.tensor([2, -3.4])\n",
    "true_b = 4.2\n",
    "features, labels = synthetic_data(true_w, true_b, 1000)"
   ]
  },
  {
   "cell_type": "markdown",
   "id": "d728d1e7",
   "metadata": {},
   "source": [
    "### 读取数据集"
   ]
  },
  {
   "cell_type": "code",
   "execution_count": 47,
   "id": "59965bfd",
   "metadata": {},
   "outputs": [
    {
     "data": {
      "text/plain": [
       "[tensor([[ 0.9485, -1.3108],\n",
       "         [ 0.0997,  0.0574],\n",
       "         [-0.1697,  0.2039],\n",
       "         [ 0.1793,  1.4314],\n",
       "         [ 1.1399, -0.2776],\n",
       "         [-0.2617, -2.7555],\n",
       "         [-0.1051, -1.2162],\n",
       "         [ 2.2318,  0.6140],\n",
       "         [-0.5446, -1.5419],\n",
       "         [-0.9825,  0.6405]]),\n",
       " tensor([[10.5451],\n",
       "         [ 4.1915],\n",
       "         [ 3.1576],\n",
       "         [-0.3035],\n",
       "         [ 7.4147],\n",
       "         [13.0383],\n",
       "         [ 8.1092],\n",
       "         [ 6.5813],\n",
       "         [ 8.3387],\n",
       "         [ 0.0561]])]"
      ]
     },
     "execution_count": 47,
     "metadata": {},
     "output_type": "execute_result"
    }
   ],
   "source": [
    "# 调用框架中现有的API来读取数据\n",
    "def load_array(data_arrays, batch_size, is_train=True):  #@save\n",
    "    \"\"\"构造一个PyTorch数据迭代器\"\"\"\n",
    "    dataset = data.TensorDataset(*data_arrays)\n",
    "    return data.DataLoader(dataset, batch_size, shuffle=is_train)  # shuffle = is_train指需要打乱顺序\n",
    "\n",
    "batch_size = 10\n",
    "data_iter = load_array((features, labels), batch_size)\n",
    "\n",
    "next(iter(data_iter))"
   ]
  },
  {
   "cell_type": "markdown",
   "id": "20dd639a",
   "metadata": {},
   "source": [
    "### 使用框架的预定义好的层"
   ]
  },
  {
   "cell_type": "code",
   "execution_count": 48,
   "id": "aeec0709",
   "metadata": {},
   "outputs": [],
   "source": [
    "# nn是神经网络的缩写\n",
    "from torch import nn\n",
    "# 在PyTorch中，全连接层在Linear类中定义。 值得注意的是，我们将两个参数传递到nn.Linear中。 第一个指定输入特征形状，即2，第二个指定输出特征形状，输出特征形状为单个标量，因此为1。\n",
    "net = nn.Sequential(nn.Linear(2, 1))  "
   ]
  },
  {
   "cell_type": "markdown",
   "id": "b093c7e0",
   "metadata": {},
   "source": [
    "### 初始化模型参数"
   ]
  },
  {
   "cell_type": "code",
   "execution_count": null,
   "id": "b211bfec",
   "metadata": {},
   "outputs": [],
   "source": [
    "#  正如我们在构造nn.Linear时指定输入和输出尺寸一样， 现在我们能直接访问参数以设定它们的初始值。 我们通过net[0]选择网络中的第一个图层， 然后使用weight.data和bias.data方法访问参数。 我们还可以使用替换方法normal_和fill_来重写参数值。\n",
    "net[0].weight.data.normal_(0, 0.01)\n",
    "net[0].bias.data.fill_(0)"
   ]
  },
  {
   "cell_type": "markdown",
   "id": "c3ee39d3",
   "metadata": {},
   "source": [
    "### 定义损失函数"
   ]
  },
  {
   "cell_type": "code",
   "execution_count": 49,
   "id": "2c1cc8be",
   "metadata": {},
   "outputs": [],
   "source": [
    "# 计算均方误差使用的是MSLoss类，也称为平方L2范数\n",
    "loss = nn.MSELoss()"
   ]
  },
  {
   "cell_type": "markdown",
   "id": "4d64f00e",
   "metadata": {},
   "source": [
    "### 定义优化算法"
   ]
  },
  {
   "cell_type": "code",
   "execution_count": 51,
   "id": "20bb7356",
   "metadata": {},
   "outputs": [],
   "source": [
    "# 实例化SGD 实例\n",
    "trainer = torch.optim.SGD(net.parameters(), lr=0.03)    # 优化w，b参数"
   ]
  },
  {
   "cell_type": "markdown",
   "id": "fd25ddb5",
   "metadata": {},
   "source": [
    "### 训练"
   ]
  },
  {
   "cell_type": "code",
   "execution_count": 52,
   "id": "9128a44c",
   "metadata": {},
   "outputs": [
    {
     "name": "stdout",
     "output_type": "stream",
     "text": [
      "epoch 1, loss 0.000209\n",
      "epoch 2, loss 0.000102\n",
      "epoch 3, loss 0.000101\n"
     ]
    }
   ],
   "source": [
    "# 训练过程代码与我们从零开始实现时所做的非常相似\n",
    "num_epochs = 3\n",
    "for epoch in range(num_epochs):\n",
    "    for X, y in data_iter: \n",
    "        l = loss(net(X) ,y)    # net()里面自带了模型参数\n",
    "        trainer.zero_grad()   # 优化器梯度清零\n",
    "        l.backward()        # pytorch已经求过sum了，就只需求梯度\n",
    "        trainer.step()      # 进行模型更新\n",
    "    l = loss(net(features), labels)\n",
    "    print(f'epoch {epoch + 1}, loss {l:f}')"
   ]
  },
  {
   "cell_type": "code",
   "execution_count": null,
   "id": "3a2ba579",
   "metadata": {},
   "outputs": [],
   "source": []
  }
 ],
 "metadata": {
  "kernelspec": {
   "display_name": "Python 3 (ipykernel)",
   "language": "python",
   "name": "python3"
  },
  "language_info": {
   "codemirror_mode": {
    "name": "ipython",
    "version": 3
   },
   "file_extension": ".py",
   "mimetype": "text/x-python",
   "name": "python",
   "nbconvert_exporter": "python",
   "pygments_lexer": "ipython3",
   "version": "3.10.6"
  },
  "toc": {
   "base_numbering": 1,
   "nav_menu": {},
   "number_sections": true,
   "sideBar": true,
   "skip_h1_title": false,
   "title_cell": "Table of Contents",
   "title_sidebar": "Contents",
   "toc_cell": false,
   "toc_position": {},
   "toc_section_display": true,
   "toc_window_display": false
  }
 },
 "nbformat": 4,
 "nbformat_minor": 5
}
